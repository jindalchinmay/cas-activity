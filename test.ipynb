{
 "cells": [
  {
   "cell_type": "code",
   "execution_count": 2,
   "metadata": {},
   "outputs": [],
   "source": [
    "from crewai_tools import ScrapeWebsiteTool"
   ]
  },
  {
   "cell_type": "code",
   "execution_count": 3,
   "metadata": {},
   "outputs": [],
   "source": [
    "tool = ScrapeWebsiteTool()"
   ]
  },
  {
   "cell_type": "code",
   "execution_count": 7,
   "metadata": {},
   "outputs": [],
   "source": [
    "links = [\"https://www.comparitech.com/blog/information-security/phone-spam-statistics/\", \"https://www.truecaller.com/blog/insights/top-20-countries-affected-by-spam-calls-in-2021\", \"https://www.international.gc.ca/global-affairs-affaires-mondiales/corporate-ministere/contact-contactez/fraud-fraude.aspx?lang=eng\", \"https://tnsi.com/resource/com/the-international-problem-of-scam-phone-calls-blog/\", \"https://www.geekwire.com/2023/as-phone-scams-spike-around-the-world-one-would-be-victim-shares-a-cautionary-tale/\", \"https://www.cbc.ca/news/business/spam-scam-calls-crtc-1.6863952\", \"https://blog.hiya.com/global-call-threat-report\"]"
   ]
  },
  {
   "cell_type": "code",
   "execution_count": 8,
   "metadata": {},
   "outputs": [],
   "source": [
    "scraped_text = []"
   ]
  },
  {
   "cell_type": "code",
   "execution_count": 9,
   "metadata": {},
   "outputs": [
    {
     "name": "stdout",
     "output_type": "stream",
     "text": [
      "Using Tool: Read website content\n",
      "Using Tool: Read website content\n",
      "Using Tool: Read website content\n",
      "Using Tool: Read website content\n",
      "Using Tool: Read website content\n",
      "Using Tool: Read website content\n",
      "Using Tool: Read website content\n"
     ]
    }
   ],
   "source": [
    "for link in links:\n",
    "    tool = ScrapeWebsiteTool(website_url=link)\n",
    "    text = tool.run()\n",
    "    scraped_text.append(text)"
   ]
  },
  {
   "cell_type": "code",
   "execution_count": 12,
   "metadata": {},
   "outputs": [],
   "source": [
    "sum = sum(len(i) for i in scraped_text)"
   ]
  },
  {
   "cell_type": "code",
   "execution_count": 15,
   "metadata": {},
   "outputs": [],
   "source": [
    "import os\n",
    "from dotenv import load_dotenv\n",
    "\n",
    "load_dotenv(override=True)\n",
    "api_key = os.environ.get(\"OPENAI_API_KEY\")\n"
   ]
  },
  {
   "cell_type": "code",
   "execution_count": 17,
   "metadata": {},
   "outputs": [],
   "source": [
    "from langchain_community.document_loaders import PyPDFLoader\n",
    "\n",
    "file_path = (\n",
    "    \"/Users/chinmay/Programming/cas_scraper/reflection.pdf\"\n",
    ")"
   ]
  },
  {
   "cell_type": "code",
   "execution_count": 18,
   "metadata": {},
   "outputs": [],
   "source": [
    "loader = PyPDFLoader(file_path)\n",
    "template = loader.load_and_split()"
   ]
  },
  {
   "cell_type": "code",
   "execution_count": 28,
   "metadata": {},
   "outputs": [],
   "source": [
    "prompt = f\"Given the following websites, <scraped text>{scraped_text}</scraped text> and given the following links <links>{links}>/links>, you have been given the following template <template> {template} </template>. from the template, answer the exact same questions but with the content provided in the web_scraped context with the topic of \\\"scam calls\\\". this is a global issue reflection for IB CAS. You need to have the following sections: introduction, global perspective on scam calls, stats and data, global solutions, personal opinion, links to articles. You're output should be more than 10,000 characters in length. go into detail for each category\""
   ]
  },
  {
   "cell_type": "code",
   "execution_count": 29,
   "metadata": {},
   "outputs": [],
   "source": [
    "from openai import OpenAI\n",
    "client = OpenAI()\n",
    "\n",
    "response = client.chat.completions.create(\n",
    "  model=\"gpt-4o-2024-08-06\",\n",
    "  messages=[\n",
    "    {\"role\": \"system\", \"content\": \"You are a helpful AI assistant that is good at looking at entire websites and then filling out a predefined template based on past language and response.\"},\n",
    "    {\"role\": \"user\", \"content\": f\"{prompt}\"}\n",
    "  ]\n",
    ")"
   ]
  },
  {
   "cell_type": "code",
   "execution_count": 30,
   "metadata": {},
   "outputs": [
    {
     "data": {
      "text/plain": [
       "\"**Global Issue Reflection: Scam Calls**\\n\\n**Introduction**\\n\\nScam calls, also known as phone spam, have become an insidious and widespread issue, plaguing phone users across the globe. They are unsolicited calls made by fraudsters aiming to deceive people, often resulting in financial loss and breach of privacy. Despite advancements in technology and regulatory interventions, scam calls continue to rise in frequency, adapting with new and sophisticated methods to exploit unsuspecting individuals. This reflection delves into the global problem of scam calls, exploring the scale of the issue, examining statistical data, assessing international solutions, and sharing a personal perspective on the matter.\\n\\n**Global Perspective on Scam Calls**\\n\\nThe phenomenon of scam calls is not bounded by geographical or cultural lines; it is a pervasive global issue affecting millions of people daily. In the United States, the proliferation of scam calls has reached critical levels, with regulations failing to completely curtail their growth. According to TNS, the STIR/SHAKEN framework introduced by the FCC aims to authenticate the caller ID information displayed during phone calls, but challenges remain in its implementation, allowing many scam calls to slip through.\\n\\nAcross Europe, countries like the United Kingdom and Germany experience similar problems. The UK, in particular, has one of the highest proportions of fraud calls in Europe, a reflection of the sophisticated tactics employed by scammers. A significant portion of these calls is linked to financial scams, exploiting the rising cost of living and other socio-economic issues to create believable deception scenarios.\\n\\nThe issue is even more pronounced in parts of Asia and Africa, where expansive mobile networks and less stringent regulations present lucrative opportunities for scammers. In countries like Brazil and India, the rate of scam calls per person per month is alarmingly high, making them some of the most spam-ridden countries in the world. These scam operations are often categorized by the impersonation of legitimate entities, such as banks, government agencies, or prominent online retailers, intending to extract personal information and money from their victims.\\n\\n**Stats and Data**\\n\\nThe scale of scam calls globally is unsettling. For example, a report from Truecaller highlighted that in 2021, Brazil topped the list as the most spammed country for the fourth consecutive year, with 32.9 spam calls per user per month. This statistic is not just a reflection of nuisance; it signifies a significant risk to public safety and financial security.\\n\\nIn the US, Hiya’s data revealed over 6.5 billion fraud calls in Q2 of 2023 alone, indicating a persistent challenge despite regulatory efforts. One in four calls from unknown numbers is suspected to be spam, underscoring the severity of the issue. Similarly, the UK experiences around 28% of its calls being spam, and half of these are designed to perpetrate fraud.\\n\\nThe economic impact is equally stark. Americans reportedly lost approximately $39.5 billion to phone scams in 2022, a substantial increase from the previous years. Similarly, in Canada, fraud rates are reportedly 15 times higher than those in the US, with scammers commonly impersonating government officials or well-known corporations.\\n\\n**Global Solutions**\\n\\nAddressing the issue of scam calls requires a concerted effort by governmental bodies, telecommunication companies, and technology firms. Several initiatives have been undertaken globally to tackle this menace, yet no solution has proven entirely foolproof.\\n\\nIn the United States, the STIR/SHAKEN technology has been a significant leap forward. It authenticates phone calls by verifying the validity of caller IDs, aiming to prevent spoofing and reduce the authenticity of scam calls. However, this technology only works fully when both the originating and receiving networks are upgraded to internet-based systems, a transition that is still in progress.\\n\\nIn the European Union, individual countries have implemented various local laws and technologies aimed at reducing scam calls. For instance, the UK and Germany have initiated public awareness campaigns and encouraged the use of apps like Hiya and Truecaller, which help block and identify spam calls.\\n\\nIn Asia, action is being taken at both governmental and community levels. India, with its massive volume of spam calls, employs strategies like mandatory caller verification for business numbers and public education campaigns warning against common scam tactics.\\n\\nDespite these measures, scam calls adapt rapidly. As scammers invest in new technologies and tactics, such as the use of AI to mimic human voices or generate realistic robo-calls, continuous updates and innovations in blocking technologies remain crucial. International cooperation and standardization of anti-scam call technologies are necessary to combat this global issue effectively.\\n\\n**Personal Opinion**\\n\\nUnderstanding the global impact of scam calls has reshaped my perspective on digital communication security and personal information privacy. It highlights the vulnerability that technology brings alongside its conveniences. This reflection on scam calls underscores the importance of vigilance and education, both personally and within our communities.\\n\\nI am personally compelled to be more cautious about answering calls from unknown numbers and to actively use spam filtering technologies. In addition, as a society, we must advocate for stronger regulations and support technological innovations that protect consumers. There's a pressing need for community-driven efforts to educate people about the risks and signs of scam calls, enabling them to avoid falling prey to such schemes.\\n\\nThis exploration into scam calls has been an eye-opener, shedding light on the complexities individuals face in a rapidly digitizing world. It underscores the necessity for a unified approach that incorporates technological robustness, regulatory firmness, and societal awareness to stem the tide of this modern digital threat. This reflection has inspired me to contribute more actively to the dialogue on data privacy and security, ensuring that I play my part in fostering a safer digital world.\\n\\n**Links to Articles**\\n\\n1. [Comparitech: Phone Spam Statistics](https://www.comparitech.com/blog/information-security/phone-spam-statistics/)\\n2. [Truecaller Blog: Top 20 Countries Affected By Spam Calls In 2021](https://www.truecaller.com/blog/insights/top-20-countries-affected-by-spam-calls-in-2021)\\n3. [Global Affairs Canada: Fraudulent Calls Alert](https://www.international.gc.ca/global-affairs-affaires-mondiales/corporate-ministere/contact-contactez/fraud-fraude.aspx?lang=eng)\\n4. [TNS Blog: The International Problem of Scam Phone Calls](https://tnsi.com/resource/com/the-international-problem-of-scam-phone-calls-blog/)\\n5. [GeekWire: Phone Scams Spike](https://www.geekwire.com/2023/as-phone-scams-spike-around-the-world-one-would-be-victim-shares-a-cautionary-tale/)\\n6. [CBC News: Scam Calls Persist in Canada](https://www.cbc.ca/news/business/spam-scam-calls-crtc-1.6863952)\\n7. [Hiya Blog: Global Call Threat Report](https://blog.hiya.com/global-call-threat-report) \\n\\nThis detailed reflection not only illustrates the severity of scam calls across the globe but also emphasizes the need for collective global action to address this persistent digital threat.\""
      ]
     },
     "execution_count": 30,
     "metadata": {},
     "output_type": "execute_result"
    }
   ],
   "source": [
    "response.choices[0].message.content"
   ]
  },
  {
   "cell_type": "code",
   "execution_count": 31,
   "metadata": {},
   "outputs": [],
   "source": [
    "with open('results.txt', 'w') as f:\n",
    "    f.write(response.choices[0].message.content)"
   ]
  },
  {
   "cell_type": "code",
   "execution_count": null,
   "metadata": {},
   "outputs": [],
   "source": []
  }
 ],
 "metadata": {
  "kernelspec": {
   "display_name": "cas",
   "language": "python",
   "name": "python3"
  },
  "language_info": {
   "codemirror_mode": {
    "name": "ipython",
    "version": 3
   },
   "file_extension": ".py",
   "mimetype": "text/x-python",
   "name": "python",
   "nbconvert_exporter": "python",
   "pygments_lexer": "ipython3",
   "version": "3.12.4"
  }
 },
 "nbformat": 4,
 "nbformat_minor": 2
}
